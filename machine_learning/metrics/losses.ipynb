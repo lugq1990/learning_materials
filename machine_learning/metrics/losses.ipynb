{
 "cells": [
  {
   "cell_type": "markdown",
   "metadata": {},
   "source": [
    "### Negative log loss\n",
    "\n",
    "Implement nll loss."
   ]
  },
  {
   "cell_type": "code",
   "execution_count": 7,
   "metadata": {},
   "outputs": [
    {
     "name": "stdout",
     "output_type": "stream",
     "text": [
      "Equal or not? True\n"
     ]
    }
   ],
   "source": [
    "import numpy as np\n",
    "from sklearn import metrics\n",
    "from sklearn.datasets import load_iris\n",
    "from sklearn.linear_model import LogisticRegression\n",
    "\n",
    "x, y = load_iris(return_X_y=True)\n",
    "x, y = x[:100], y[:100]\n",
    "lr = LogisticRegression()\n",
    "\n",
    "lr.fit(x, y)\n",
    "prob = lr.predict_proba(x)\n",
    "\n",
    "\n",
    "def nll_loss(y, prob):\n",
    "    return -1/len(y) * np.sum(y * np.log(prob[:, 1]) + (1-y) * np.log(prob[:, 0]))\n",
    "\n",
    "m_loss = nll_loss(y, prob)\n",
    "sk_loss = metrics.log_loss(y, prob)\n",
    "\n",
    "print(\"Equal or not?\", np.allclose(m_loss, sk_loss))"
   ]
  },
  {
   "cell_type": "code",
   "execution_count": null,
   "metadata": {},
   "outputs": [],
   "source": []
  }
 ],
 "metadata": {
  "interpreter": {
   "hash": "72fb3653cf115be494adc8e095c5b819f4ea2226d5e10ba2ef8a2320ce58610b"
  },
  "kernelspec": {
   "display_name": "Python 3.8.12 64-bit ('automl': conda)",
   "language": "python",
   "name": "python3"
  },
  "language_info": {
   "codemirror_mode": {
    "name": "ipython",
    "version": 3
   },
   "file_extension": ".py",
   "mimetype": "text/x-python",
   "name": "python",
   "nbconvert_exporter": "python",
   "pygments_lexer": "ipython3",
   "version": "3.8.12"
  },
  "orig_nbformat": 4
 },
 "nbformat": 4,
 "nbformat_minor": 2
}
